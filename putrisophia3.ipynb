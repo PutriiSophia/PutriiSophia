{
  "cells": [
    {
      "cell_type": "markdown",
      "metadata": {
        "id": "view-in-github",
        "colab_type": "text"
      },
      "source": [
        "<a href=\"https://colab.research.google.com/github/PutriiSophia/PutriiSophia/blob/main/putrisophia3.ipynb\" target=\"_parent\"><img src=\"https://colab.research.google.com/assets/colab-badge.svg\" alt=\"Open In Colab\"/></a>"
      ]
    },
    {
      "cell_type": "code",
      "source": [
        "benda = ['Buku', 'Pensil', 'Pulpen', 'Kertas', 'Gunting'] \n",
        "\n",
        "while True :\n",
        "  print(\"\"\"pilih salah satu perintah berikut :\n",
        "  1. menambahkan\n",
        "  2. menghapus\n",
        "  3. mengedit\n",
        "  4. menampilkan\n",
        "  5. mencari benda\n",
        "  6. mencari index\"\"\")\n",
        "  perintah = input(\"masukkan perintah di atas : \")  \n",
        "\n",
        "  if perintah == '1':\n",
        "    tambah = input(\"masukkan benda : \")\n",
        "    benda.append(tambah)\n",
        "  elif perintah =='2':\n",
        "    hapus = int(input(\"masukkan index yang akan dihapus : \"))\n",
        "    del benda[hapus]\n",
        "  elif perintah == '3':\n",
        "    ubah = int(input(\"masukkan index yang akan diubah : \"))\n",
        "    benda[ubah] = input(\"masukkan benda baru : \")\n",
        "  elif perintah == '4':\n",
        "    print(benda)\n",
        "  elif perintah == '5':\n",
        "    cari = input(\"masukkan benda yang dicari : \")\n",
        "    if cari in benda:\n",
        "      print(\"benda ditemukan\")\n",
        "    else: \n",
        "      print(\"benda tidak ditemukan\")\n",
        "  elif perintah == '6':\n",
        "      cari = input(\"masukkkan benda yang ingin dicari indeksnya : \")\n",
        "      if cari in benda:\n",
        "        print(benda.index(cari))\n",
        "      else :\n",
        "        print(\"benda tidak ditemukan\")\n",
        "  else :\n",
        "    break \n",
        "\n",
        "print(\"perintah selesai\")"
      ],
      "metadata": {
        "id": "lbD4D0LD4jgf",
        "outputId": "b495fca0-b15e-45ca-dea5-e0d549d1198c",
        "colab": {
          "base_uri": "https://localhost:8080/",
          "height": 131
        }
      },
      "execution_count": 26,
      "outputs": [
        {
          "output_type": "error",
          "ename": "SyntaxError",
          "evalue": "ignored",
          "traceback": [
            "\u001b[0;36m  File \u001b[0;32m\"<ipython-input-26-3c435d37066f>\"\u001b[0;36m, line \u001b[0;32m1\u001b[0m\n\u001b[0;31m    benda = ['Buku', 'Pensil', 'Pulpen', 'Kertas', 'Gunting']\u001b[0m\n\u001b[0m         ^\u001b[0m\n\u001b[0;31mSyntaxError\u001b[0m\u001b[0;31m:\u001b[0m invalid character in identifier\n"
          ]
        }
      ]
    }
  ],
  "metadata": {
    "colab": {
      "collapsed_sections": [],
      "name": "Selamat Datang di Colaboratory",
      "provenance": [],
      "include_colab_link": true
    },
    "kernelspec": {
      "display_name": "Python 3",
      "name": "python3"
    }
  },
  "nbformat": 4,
  "nbformat_minor": 0
}